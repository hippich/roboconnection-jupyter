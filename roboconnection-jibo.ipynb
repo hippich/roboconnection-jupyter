{
 "cells": [
  {
   "cell_type": "markdown",
   "metadata": {},
   "source": [
    "- import the roboconnection library\n",
    "- define the requester object\n",
    "- setup handlers for messages"
   ]
  },
  {
   "cell_type": "code",
   "execution_count": 1,
   "metadata": {},
   "outputs": [],
   "source": [
    "let rc = require('roboconnection')\n",
    "let requester"
   ]
  },
  {
   "cell_type": "markdown",
   "metadata": {},
   "source": [
    "- configure the connection info (api keys)"
   ]
  },
  {
   "cell_type": "code",
   "execution_count": null,
   "metadata": {},
   "outputs": [],
   "source": [
    "let connectionInfo = {\n",
    "    clientId: 'CLIENT_ID',\n",
    "    clientSecret: 'SECRET_KEY',\n",
    "    port: 7160\n",
    "}"
   ]
  },
  {
   "cell_type": "raw",
   "metadata": {},
   "source": [
    "- configure the robot info (user account info - same as in the Jibo App)"
   ]
  },
  {
   "cell_type": "code",
   "execution_count": 3,
   "metadata": {},
   "outputs": [],
   "source": [
    "// EXAMPLE\n",
    "let robotInfo = {\n",
    "    serialName: 'Example-Example-Example-Example',\n",
    "    endpoint: 'portal.jibo.com',\n",
    "    email: 'EMAIL',\n",
    "    password: 'PASSWORD',\n",
    "}"
   ]
  },
  {
   "cell_type": "markdown",
   "metadata": {},
   "source": [
    "- Instantiate the connection object"
   ]
  },
  {
   "cell_type": "code",
   "execution_count": 4,
   "metadata": {},
   "outputs": [
    {
     "name": "stdout",
     "output_type": "stream",
     "text": [
      "Ready to connect to: Azure-Form-Caviar-Toile\n",
      "Listening for status messages from: Azure-Form-Caviar-Toile\n"
     ]
    }
   ],
   "source": [
    "let jiboConnection = new rc.JiboConnection(robotInfo, connectionInfo, false);\n",
    "console.log(`Ready to connect to: ${jiboConnection._robotInfo.serialName}`);\n",
    "\n",
    "let onStatusMessage = (message) => {\n",
    "    console.log(message.message);\n",
    "}\n",
    "\n",
    "let onDisconnected = () => {\n",
    "    console.log(`onDisconnected`)\n",
    "}\n",
    "\n",
    "let onConnected = (req) => {\n",
    "    requester = req;\n",
    "    requester.play.say(\"hey, we're connected using a jupiter notebook!\").complete;\n",
    "}\n",
    "\n",
    "jiboConnection.on('statusMessage', onStatusMessage);\n",
    "jiboConnection.on('connected', onConnected);\n",
    "jiboConnection.on('disconnected', onDisconnected);\n",
    "console.log(`Listening for status messages from: ${jiboConnection._robotInfo.serialName}`);"
   ]
  },
  {
   "cell_type": "markdown",
   "metadata": {},
   "source": [
    "- connect to the robot\n",
    "  - log messages will indicate the status of the connection process"
   ]
  },
  {
   "cell_type": "code",
   "execution_count": 5,
   "metadata": {},
   "outputs": [
    {
     "name": "stdout",
     "output_type": "stream",
     "text": [
      "Connecting to Azure-Form-Caviar-Toile...\n",
      "login(): success\n",
      "getRobotList(): success\n",
      "createCertificate(): success\n",
      "retrieveCertificate(): attempt #: 1\n",
      "retrieveCertificate(): success: connecting to robot...\n",
      "connectToRobot(): Connection: OK:\n"
     ]
    }
   ],
   "source": [
    "jiboConnection.connect(false);\n",
    "console.log(`Connecting to ${jiboConnection._robotInfo.serialName}...`);"
   ]
  },
  {
   "cell_type": "markdown",
   "metadata": {},
   "source": [
    "- test the api by sending a TTS (ESML) command"
   ]
  },
  {
   "cell_type": "code",
   "execution_count": 6,
   "metadata": {},
   "outputs": [],
   "source": [
    "requester.expression.say(\"you look marvelous\").complete;"
   ]
  },
  {
   "cell_type": "markdown",
   "metadata": {},
   "source": [
    "- have Jibo turn to the left (relative to his starting position)"
   ]
  },
  {
   "cell_type": "code",
   "execution_count": 7,
   "metadata": {},
   "outputs": [
    {
     "data": {
      "text/plain": [
       "{ Event: 'onLookAtAchieved',\n",
       "  PositionTarget: [ 0, 0, 0 ],\n",
       "  AngleTarget: [ 0, 0 ] }"
      ]
     },
     "execution_count": 7,
     "metadata": {},
     "output_type": "execute_result"
    }
   ],
   "source": [
    "angleVector = {theta: -0.5, psi: 0};\n",
    "lookAtTarget = { type: \"ANGLE\", angle: angleVector, levelHead: true};\n",
    "requester.expression.look(lookAtTarget).complete;"
   ]
  },
  {
   "cell_type": "markdown",
   "metadata": {},
   "source": [
    "- have Jibo look at an absolute position\n",
    "  - CENTER {x: 1, y: 0, z: 0.5}\n",
    "  - RIGHT {x: 0, y: -1, z: 0.4}\n",
    "  - LEFT {x: 0, y: 1, z: 0.4}"
   ]
  },
  {
   "cell_type": "code",
   "execution_count": 8,
   "metadata": {},
   "outputs": [
    {
     "data": {
      "text/plain": [
       "{ Event: 'onLookAtAchieved',\n",
       "  PositionTarget: [ 0, 0, 0 ],\n",
       "  AngleTarget: [ 0, 0 ] }"
      ]
     },
     "execution_count": 8,
     "metadata": {},
     "output_type": "execute_result"
    }
   ],
   "source": [
    "vector = {x: 1, y: 0, z: 0.5}\n",
    "position = { type: \"POSITION\", position: vector, levelHead: true};\n",
    "requester.expression.look(position).complete;"
   ]
  },
  {
   "cell_type": "markdown",
   "metadata": {},
   "source": [
    "- have Jibo ask a question"
   ]
  },
  {
   "cell_type": "code",
   "execution_count": 9,
   "metadata": {},
   "outputs": [],
   "source": [
    "let p\n",
    "let prompt"
   ]
  },
  {
   "cell_type": "code",
   "execution_count": 10,
   "metadata": {},
   "outputs": [
    {
     "name": "stdout",
     "output_type": "stream",
     "text": [
      "Hey! I think i heard something:  { Event: 'onListenResult',\n",
      "  LanguageCode: 'en-US',\n",
      "  Speech: 'hey thanks for asking I\\'m doing great' }\n",
      "listenToken: complete: { Event: 'onListenResult',\n",
      "  LanguageCode: 'en-US',\n",
      "  Speech: 'hey thanks for asking I\\'m doing great' }\n"
     ]
    }
   ],
   "source": [
    "prompt = \"How are you doing today?\"\n",
    "p = requester.expression.say(prompt).complete;\n",
    "p.then( () => {\n",
    "    let listenToken = requester.listen.start();\n",
    "    listenToken.complete.then((status) => {\n",
    "        console.log(`listenToken: complete:`, status);\n",
    "    })\n",
    "    .catch( (error) => {\n",
    "        console.log(error);\n",
    "    });\n",
    "    listenToken.update.on((listenResultEvent) => {\n",
    "            console.log(\"Hey! I think i heard something: \", listenResultEvent);\n",
    "    });\n",
    "})\n",
    "\n",
    "p.catch( (error) => {\n",
    "    console.log(error);\n",
    "});"
   ]
  },
  {
   "cell_type": "markdown",
   "metadata": {},
   "source": [
    "- have Jibo listen for Hey, Jibo"
   ]
  },
  {
   "cell_type": "code",
   "execution_count": 11,
   "metadata": {},
   "outputs": [
    {
     "data": {
      "text/plain": [
       "e {\n",
       "  name: 'Heard hot word',\n",
       "  _onceEvents: Map {},\n",
       "  _events: [ [Function] ],\n",
       "  _maxListeners: 10,\n",
       "  _emitterMode: 'ALL_HANDLERS' }"
      ]
     },
     "execution_count": 11,
     "metadata": {},
     "output_type": "execute_result"
    },
    {
     "name": "stdout",
     "output_type": "stream",
     "text": [
      "Hey! I heard Hey, Jibo:  { Event: 'onHotWordHeard',\n",
      "  Speaker: \n",
      "   { LPSPosition: { Position: [Array], AngleVector: [Array], Confidence: 0 },\n",
      "     SpeakerID: { Type: 'unknown', Confidence: 0 } } }\n"
     ]
    }
   ],
   "source": [
    "hjToken = requester.listen.subscribe.hotword();\n",
    "hjToken.hotWordHeard.on((speaker) => {\n",
    "    console.log(\"Hey! I heard Hey, Jibo: \", speaker);\n",
    "});"
   ]
  },
  {
   "cell_type": "markdown",
   "metadata": {},
   "source": [
    "- disconnect"
   ]
  },
  {
   "cell_type": "code",
   "execution_count": 12,
   "metadata": {},
   "outputs": [
    {
     "name": "stdout",
     "output_type": "stream",
     "text": [
      "onDisconnected\n",
      "disconnect()\n"
     ]
    }
   ],
   "source": [
    "p = requester.play.say(\"goodbye for now\").complete;\n",
    "p.then( () => {\n",
    "    jiboConnection.disconnect();\n",
    "});\n"
   ]
  },
  {
   "cell_type": "markdown",
   "metadata": {},
   "source": [
    "#### API\n",
    "```js\n",
    "// Say\n",
    "requester.expression.say(\"you look marvelous\").complete;\n",
    "\n",
    "// Listen\n",
    "let listenToken = requester.listen.start();\n",
    "\n",
    "\n",
    "// Look\n",
    "let angleVector = {theta: 0.5, psi: 0};\n",
    "let lookAtTarget = { type: \"ANGLE\", angle: angleVector, levelHead: true};\n",
    "let p = requester.expression.look(lookAtTarget).complete;\n",
    "\n",
    "\n",
    "// Look Vector New\n",
    "let vector = {x: 1, y: 0, z: 0.5}\n",
    "let position = { type: \"POSITION\", position: vector, levelHead: true};\n",
    "let p = requester.expression.look(position).complete;\n",
    "\n",
    "// Attention\n",
    "let mode = \"OFF\"\n",
    "let p = requester.expression.setAttention(mode as any).complete\n",
    "\n",
    "//Config Volume\n",
    "let configOptions: = { mixer: 1.0 };\n",
    "let p = requester.config.set(configOptions).complete;\n",
    "\n",
    "// Image Display New\n",
    "let data:JIBO.v1.ImageView = {\n",
    "    Type: \"Image\",\n",
    "    Name: \"imageName,\n",
    "    Image: {\n",
    "        name: \"imageName,\n",
    "        src: \"url\"\n",
    "    }\n",
    "\n",
    "}\n",
    "let p = requester.display.swap(data).complete;\n",
    "\n",
    "\n",
    "//Motion\n",
    "motionTrackToken = requester.perception.subscribe.motion();\n",
    "motionTrackToken.update.on((detectedMotions: any) => {});\n",
    "motionTrackToken.cancel();\n",
    "\n",
    "// Faces\n",
    "let faceTrackToken = requester.perception.subscribe.face();\n",
    "faceTrackToken.gained.on((detectedEntities: any) => {});\n",
    "faceTrackToken.update.on((updatedEntities: any) => {});\n",
    "faceTrackToken.cancel();\n",
    "\n",
    "\n",
    "// Photo\n",
    "let p = requester.media.capture.photo().complete;\n",
    "p.then( (data: any) => {});\n",
    "\n",
    "//Listen\n",
    "let listenToken = requester.listen.start();\n",
    "listenToken.update.on((listenResultEvent) => {});\n",
    "\n",
    "// Hotword\n",
    "hjToken = requester.listen.subscribe.hotword();\n",
    "this.hjToken.hotWordHeard.on((speaker: any) => {});\n",
    "\n",
    "```"
   ]
  },
  {
   "cell_type": "code",
   "execution_count": null,
   "metadata": {},
   "outputs": [],
   "source": []
  }
 ],
 "metadata": {
  "kernelspec": {
   "display_name": "Javascript (Node.js)",
   "language": "javascript",
   "name": "javascript"
  },
  "language_info": {
   "file_extension": ".js",
   "mimetype": "application/javascript",
   "name": "javascript",
   "version": "8.12.0"
  }
 },
 "nbformat": 4,
 "nbformat_minor": 2
}
